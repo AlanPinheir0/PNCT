{
 "cells": [
  {
   "cell_type": "code",
   "execution_count": 1,
   "metadata": {},
   "outputs": [],
   "source": [
    "import geopandas as gpd\n",
    "import numpy as np\n",
    "import pandas as pd\n",
    "import matplotlib.pyplot as plt\n",
    "import seaborn as sns\n",
    "import mplleaflet\n",
    "import os"
   ]
  },
  {
   "cell_type": "code",
   "execution_count": 2,
   "metadata": {},
   "outputs": [
    {
     "data": {
      "text/plain": [
       "['ABRASIL.ipynb',\n",
       " 'CE.ipynb',\n",
       " 'Planilhas',\n",
       " 'MS.ipynb',\n",
       " 'PA.ipynb',\n",
       " 'RN.ipynb',\n",
       " 'Resultado',\n",
       " 'TO.ipynb',\n",
       " 'PB.ipynb',\n",
       " 'SE.ipynb',\n",
       " 'AP.ipynb',\n",
       " 'Shapes',\n",
       " 'PE.ipynb',\n",
       " 'AL.ipynb',\n",
       " 'ES.ipynb',\n",
       " 'BA.ipynb',\n",
       " 'Embrapa',\n",
       " 'RO.ipynb',\n",
       " 'AC.ipynb',\n",
       " 'MA.ipynb',\n",
       " 'AM.ipynb',\n",
       " 'RS.ipynb',\n",
       " 'RJ.ipynb',\n",
       " 'SC.ipynb',\n",
       " 'MT.ipynb',\n",
       " 'PR.ipynb',\n",
       " 'GO.ipynb',\n",
       " 'PI.ipynb',\n",
       " '.ipynb_checkpoints',\n",
       " 'MG.ipynb',\n",
       " 'RR.ipynb',\n",
       " 'DF.ipynb',\n",
       " 'SP.ipynb']"
      ]
     },
     "execution_count": 2,
     "metadata": {},
     "output_type": "execute_result"
    }
   ],
   "source": [
    "os.listdir()"
   ]
  },
  {
   "cell_type": "code",
   "execution_count": 3,
   "metadata": {
    "scrolled": true
   },
   "outputs": [
    {
     "data": {
      "text/plain": [
       "['ES',\n",
       " 'SP',\n",
       " 'PI',\n",
       " 'GO',\n",
       " 'MA',\n",
       " 'DF',\n",
       " 'PB',\n",
       " 'PR',\n",
       " 'TO',\n",
       " 'CE',\n",
       " 'RS',\n",
       " 'MG',\n",
       " 'AM',\n",
       " 'AL',\n",
       " 'BA',\n",
       " 'RN',\n",
       " 'RR',\n",
       " 'RO',\n",
       " 'PE',\n",
       " 'SC',\n",
       " 'AP',\n",
       " 'SE',\n",
       " 'MS',\n",
       " 'RJ',\n",
       " 'PA',\n",
       " 'BR',\n",
       " 'AC',\n",
       " 'MT']"
      ]
     },
     "execution_count": 3,
     "metadata": {},
     "output_type": "execute_result"
    }
   ],
   "source": [
    "os.listdir('Resultado')"
   ]
  },
  {
   "cell_type": "code",
   "execution_count": 4,
   "metadata": {},
   "outputs": [],
   "source": [
    "brasil = gpd.GeoDataFrame()\n",
    "for uf in os.listdir('Resultado'):\n",
    "    if uf != 'BR':\n",
    "        UF = gpd.read_file('Resultado/'+uf+'/regioes_urbanas_'+uf+'.shp')\n",
    "        brasil = pd.concat([brasil,UF])"
   ]
  },
  {
   "cell_type": "code",
   "execution_count": 23,
   "metadata": {},
   "outputs": [],
   "source": [
    "brasil.to_file(driver = 'ESRI Shapefile',filename ='regioes_urbanas_br.shp')"
   ]
  },
  {
   "cell_type": "code",
   "execution_count": 6,
   "metadata": {},
   "outputs": [],
   "source": [
    "f, ax = plt.subplots(1,figsize = (15,7))\n",
    "brasil.plot(ax=ax,color = 'red',edgecolor='red')\n",
    "mplleaflet.show(fig=f,crs=brasil.crs)"
   ]
  },
  {
   "cell_type": "code",
   "execution_count": null,
   "metadata": {},
   "outputs": [],
   "source": []
  }
 ],
 "metadata": {
  "kernelspec": {
   "display_name": "Python 3",
   "language": "python",
   "name": "python3"
  },
  "language_info": {
   "codemirror_mode": {
    "name": "ipython",
    "version": 3
   },
   "file_extension": ".py",
   "mimetype": "text/x-python",
   "name": "python",
   "nbconvert_exporter": "python",
   "pygments_lexer": "ipython3",
   "version": "3.6.5"
  }
 },
 "nbformat": 4,
 "nbformat_minor": 2
}
